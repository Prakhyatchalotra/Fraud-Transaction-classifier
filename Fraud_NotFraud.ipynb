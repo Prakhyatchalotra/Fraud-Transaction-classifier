{
  "cells": [
    {
      "cell_type": "markdown",
      "source": [
        "**'Fraud or Not' ML Model**\n"
      ],
      "metadata": {
        "id": "-icK5U4VBeJq"
      },
      "id": "-icK5U4VBeJq"
    },
    {
      "cell_type": "code",
      "source": [
        "from google.colab import drive\n",
        "drive.mount('/content/drive')"
      ],
      "metadata": {
        "colab": {
          "base_uri": "https://localhost:8080/"
        },
        "id": "yaSat8-z9kJ_",
        "outputId": "75f77818-eae4-4855-b615-0818805cc83a"
      },
      "id": "yaSat8-z9kJ_",
      "execution_count": 54,
      "outputs": [
        {
          "output_type": "stream",
          "name": "stdout",
          "text": [
            "Drive already mounted at /content/drive; to attempt to forcibly remount, call drive.mount(\"/content/drive\", force_remount=True).\n"
          ]
        }
      ]
    },
    {
      "cell_type": "code",
      "execution_count": 3,
      "id": "8ca642be",
      "metadata": {
        "id": "8ca642be"
      },
      "outputs": [],
      "source": [
        "import pandas as pd\n",
        "import numpy as np\n",
        "dataset = pd.read_csv('/content/drive/MyDrive/Fraud.csv') "
      ]
    },
    {
      "cell_type": "code",
      "execution_count": 5,
      "id": "8c0141a7",
      "metadata": {
        "colab": {
          "base_uri": "https://localhost:8080/",
          "height": 206
        },
        "id": "8c0141a7",
        "outputId": "c98d398f-d9dc-4565-9fd6-95efb0757072"
      },
      "outputs": [
        {
          "output_type": "execute_result",
          "data": {
            "text/plain": [
              "   step      type    amount     nameOrig  oldbalanceOrg  newbalanceOrig  \\\n",
              "0     1   PAYMENT   9839.64  C1231006815       170136.0       160296.36   \n",
              "1     1   PAYMENT   1864.28  C1666544295        21249.0        19384.72   \n",
              "2     1  TRANSFER    181.00  C1305486145          181.0            0.00   \n",
              "3     1  CASH_OUT    181.00   C840083671          181.0            0.00   \n",
              "4     1   PAYMENT  11668.14  C2048537720        41554.0        29885.86   \n",
              "\n",
              "      nameDest  oldbalanceDest  newbalanceDest  isFraud  isFlaggedFraud  \n",
              "0  M1979787155             0.0             0.0        0               0  \n",
              "1  M2044282225             0.0             0.0        0               0  \n",
              "2   C553264065             0.0             0.0        1               0  \n",
              "3    C38997010         21182.0             0.0        1               0  \n",
              "4  M1230701703             0.0             0.0        0               0  "
            ],
            "text/html": [
              "\n",
              "  <div id=\"df-bce4f7cd-32b0-41d9-9988-97fe658ba3d3\">\n",
              "    <div class=\"colab-df-container\">\n",
              "      <div>\n",
              "<style scoped>\n",
              "    .dataframe tbody tr th:only-of-type {\n",
              "        vertical-align: middle;\n",
              "    }\n",
              "\n",
              "    .dataframe tbody tr th {\n",
              "        vertical-align: top;\n",
              "    }\n",
              "\n",
              "    .dataframe thead th {\n",
              "        text-align: right;\n",
              "    }\n",
              "</style>\n",
              "<table border=\"1\" class=\"dataframe\">\n",
              "  <thead>\n",
              "    <tr style=\"text-align: right;\">\n",
              "      <th></th>\n",
              "      <th>step</th>\n",
              "      <th>type</th>\n",
              "      <th>amount</th>\n",
              "      <th>nameOrig</th>\n",
              "      <th>oldbalanceOrg</th>\n",
              "      <th>newbalanceOrig</th>\n",
              "      <th>nameDest</th>\n",
              "      <th>oldbalanceDest</th>\n",
              "      <th>newbalanceDest</th>\n",
              "      <th>isFraud</th>\n",
              "      <th>isFlaggedFraud</th>\n",
              "    </tr>\n",
              "  </thead>\n",
              "  <tbody>\n",
              "    <tr>\n",
              "      <th>0</th>\n",
              "      <td>1</td>\n",
              "      <td>PAYMENT</td>\n",
              "      <td>9839.64</td>\n",
              "      <td>C1231006815</td>\n",
              "      <td>170136.0</td>\n",
              "      <td>160296.36</td>\n",
              "      <td>M1979787155</td>\n",
              "      <td>0.0</td>\n",
              "      <td>0.0</td>\n",
              "      <td>0</td>\n",
              "      <td>0</td>\n",
              "    </tr>\n",
              "    <tr>\n",
              "      <th>1</th>\n",
              "      <td>1</td>\n",
              "      <td>PAYMENT</td>\n",
              "      <td>1864.28</td>\n",
              "      <td>C1666544295</td>\n",
              "      <td>21249.0</td>\n",
              "      <td>19384.72</td>\n",
              "      <td>M2044282225</td>\n",
              "      <td>0.0</td>\n",
              "      <td>0.0</td>\n",
              "      <td>0</td>\n",
              "      <td>0</td>\n",
              "    </tr>\n",
              "    <tr>\n",
              "      <th>2</th>\n",
              "      <td>1</td>\n",
              "      <td>TRANSFER</td>\n",
              "      <td>181.00</td>\n",
              "      <td>C1305486145</td>\n",
              "      <td>181.0</td>\n",
              "      <td>0.00</td>\n",
              "      <td>C553264065</td>\n",
              "      <td>0.0</td>\n",
              "      <td>0.0</td>\n",
              "      <td>1</td>\n",
              "      <td>0</td>\n",
              "    </tr>\n",
              "    <tr>\n",
              "      <th>3</th>\n",
              "      <td>1</td>\n",
              "      <td>CASH_OUT</td>\n",
              "      <td>181.00</td>\n",
              "      <td>C840083671</td>\n",
              "      <td>181.0</td>\n",
              "      <td>0.00</td>\n",
              "      <td>C38997010</td>\n",
              "      <td>21182.0</td>\n",
              "      <td>0.0</td>\n",
              "      <td>1</td>\n",
              "      <td>0</td>\n",
              "    </tr>\n",
              "    <tr>\n",
              "      <th>4</th>\n",
              "      <td>1</td>\n",
              "      <td>PAYMENT</td>\n",
              "      <td>11668.14</td>\n",
              "      <td>C2048537720</td>\n",
              "      <td>41554.0</td>\n",
              "      <td>29885.86</td>\n",
              "      <td>M1230701703</td>\n",
              "      <td>0.0</td>\n",
              "      <td>0.0</td>\n",
              "      <td>0</td>\n",
              "      <td>0</td>\n",
              "    </tr>\n",
              "  </tbody>\n",
              "</table>\n",
              "</div>\n",
              "      <button class=\"colab-df-convert\" onclick=\"convertToInteractive('df-bce4f7cd-32b0-41d9-9988-97fe658ba3d3')\"\n",
              "              title=\"Convert this dataframe to an interactive table.\"\n",
              "              style=\"display:none;\">\n",
              "        \n",
              "  <svg xmlns=\"http://www.w3.org/2000/svg\" height=\"24px\"viewBox=\"0 0 24 24\"\n",
              "       width=\"24px\">\n",
              "    <path d=\"M0 0h24v24H0V0z\" fill=\"none\"/>\n",
              "    <path d=\"M18.56 5.44l.94 2.06.94-2.06 2.06-.94-2.06-.94-.94-2.06-.94 2.06-2.06.94zm-11 1L8.5 8.5l.94-2.06 2.06-.94-2.06-.94L8.5 2.5l-.94 2.06-2.06.94zm10 10l.94 2.06.94-2.06 2.06-.94-2.06-.94-.94-2.06-.94 2.06-2.06.94z\"/><path d=\"M17.41 7.96l-1.37-1.37c-.4-.4-.92-.59-1.43-.59-.52 0-1.04.2-1.43.59L10.3 9.45l-7.72 7.72c-.78.78-.78 2.05 0 2.83L4 21.41c.39.39.9.59 1.41.59.51 0 1.02-.2 1.41-.59l7.78-7.78 2.81-2.81c.8-.78.8-2.07 0-2.86zM5.41 20L4 18.59l7.72-7.72 1.47 1.35L5.41 20z\"/>\n",
              "  </svg>\n",
              "      </button>\n",
              "      \n",
              "  <style>\n",
              "    .colab-df-container {\n",
              "      display:flex;\n",
              "      flex-wrap:wrap;\n",
              "      gap: 12px;\n",
              "    }\n",
              "\n",
              "    .colab-df-convert {\n",
              "      background-color: #E8F0FE;\n",
              "      border: none;\n",
              "      border-radius: 50%;\n",
              "      cursor: pointer;\n",
              "      display: none;\n",
              "      fill: #1967D2;\n",
              "      height: 32px;\n",
              "      padding: 0 0 0 0;\n",
              "      width: 32px;\n",
              "    }\n",
              "\n",
              "    .colab-df-convert:hover {\n",
              "      background-color: #E2EBFA;\n",
              "      box-shadow: 0px 1px 2px rgba(60, 64, 67, 0.3), 0px 1px 3px 1px rgba(60, 64, 67, 0.15);\n",
              "      fill: #174EA6;\n",
              "    }\n",
              "\n",
              "    [theme=dark] .colab-df-convert {\n",
              "      background-color: #3B4455;\n",
              "      fill: #D2E3FC;\n",
              "    }\n",
              "\n",
              "    [theme=dark] .colab-df-convert:hover {\n",
              "      background-color: #434B5C;\n",
              "      box-shadow: 0px 1px 3px 1px rgba(0, 0, 0, 0.15);\n",
              "      filter: drop-shadow(0px 1px 2px rgba(0, 0, 0, 0.3));\n",
              "      fill: #FFFFFF;\n",
              "    }\n",
              "  </style>\n",
              "\n",
              "      <script>\n",
              "        const buttonEl =\n",
              "          document.querySelector('#df-bce4f7cd-32b0-41d9-9988-97fe658ba3d3 button.colab-df-convert');\n",
              "        buttonEl.style.display =\n",
              "          google.colab.kernel.accessAllowed ? 'block' : 'none';\n",
              "\n",
              "        async function convertToInteractive(key) {\n",
              "          const element = document.querySelector('#df-bce4f7cd-32b0-41d9-9988-97fe658ba3d3');\n",
              "          const dataTable =\n",
              "            await google.colab.kernel.invokeFunction('convertToInteractive',\n",
              "                                                     [key], {});\n",
              "          if (!dataTable) return;\n",
              "\n",
              "          const docLinkHtml = 'Like what you see? Visit the ' +\n",
              "            '<a target=\"_blank\" href=https://colab.research.google.com/notebooks/data_table.ipynb>data table notebook</a>'\n",
              "            + ' to learn more about interactive tables.';\n",
              "          element.innerHTML = '';\n",
              "          dataTable['output_type'] = 'display_data';\n",
              "          await google.colab.output.renderOutput(dataTable, element);\n",
              "          const docLink = document.createElement('div');\n",
              "          docLink.innerHTML = docLinkHtml;\n",
              "          element.appendChild(docLink);\n",
              "        }\n",
              "      </script>\n",
              "    </div>\n",
              "  </div>\n",
              "  "
            ]
          },
          "metadata": {},
          "execution_count": 5
        }
      ],
      "source": [
        "dataset.head()"
      ]
    },
    {
      "cell_type": "markdown",
      "source": [
        "**Features like 'step' , 'nameOrig' and 'nameDest' are of no use for us as they dont carry any value for our predictions. nameOrig and nameDest will be unique for each new costumer and hence we cannot find a corelation between these variables and our dependent variables. In 'step' variable, we wont get much of a corelation hence i've excluded it as well.**"
      ],
      "metadata": {
        "id": "ETgRwIdi7iK-"
      },
      "id": "ETgRwIdi7iK-"
    },
    {
      "cell_type": "code",
      "execution_count": 6,
      "id": "c576311e",
      "metadata": {
        "colab": {
          "base_uri": "https://localhost:8080/"
        },
        "id": "c576311e",
        "outputId": "abc0208c-8d63-4a6e-a0da-c447ccc13ddc"
      },
      "outputs": [
        {
          "output_type": "stream",
          "name": "stdout",
          "text": [
            "             type      amount\n",
            "0         PAYMENT     9839.64\n",
            "1         PAYMENT     1864.28\n",
            "2        TRANSFER      181.00\n",
            "3        CASH_OUT      181.00\n",
            "4         PAYMENT    11668.14\n",
            "...           ...         ...\n",
            "6362615  CASH_OUT   339682.13\n",
            "6362616  TRANSFER  6311409.28\n",
            "6362617  CASH_OUT  6311409.28\n",
            "6362618  TRANSFER   850002.52\n",
            "6362619  CASH_OUT   850002.52\n",
            "\n",
            "[6362620 rows x 2 columns]\n",
            "\n",
            "\n",
            "         oldbalanceOrg  newbalanceOrig\n",
            "0            170136.00       160296.36\n",
            "1             21249.00        19384.72\n",
            "2               181.00            0.00\n",
            "3               181.00            0.00\n",
            "4             41554.00        29885.86\n",
            "...                ...             ...\n",
            "6362615      339682.13            0.00\n",
            "6362616     6311409.28            0.00\n",
            "6362617     6311409.28            0.00\n",
            "6362618      850002.52            0.00\n",
            "6362619      850002.52            0.00\n",
            "\n",
            "[6362620 rows x 2 columns]\n",
            "\n",
            "\n",
            "         oldbalanceDest  newbalanceDest\n",
            "0                  0.00            0.00\n",
            "1                  0.00            0.00\n",
            "2                  0.00            0.00\n",
            "3              21182.00            0.00\n",
            "4                  0.00            0.00\n",
            "...                 ...             ...\n",
            "6362615            0.00       339682.13\n",
            "6362616            0.00            0.00\n",
            "6362617        68488.84      6379898.11\n",
            "6362618            0.00            0.00\n",
            "6362619      6510099.11      7360101.63\n",
            "\n",
            "[6362620 rows x 2 columns]\n",
            "\n",
            "\n"
          ]
        }
      ],
      "source": [
        "X = dataset.iloc[:,1:3] \n",
        "Y = dataset.iloc[:,4:6]\n",
        "Z = dataset.iloc[:,7:9]\n",
        "\n",
        "print(X)\n",
        "print('\\n')\n",
        "\n",
        "print(Y) \n",
        "print('\\n')\n",
        "      \n",
        "print(Z) \n",
        "print('\\n')      "
      ]
    },
    {
      "cell_type": "code",
      "execution_count": 7,
      "id": "0f2f3e4b",
      "metadata": {
        "colab": {
          "base_uri": "https://localhost:8080/"
        },
        "id": "0f2f3e4b",
        "outputId": "4ab4335c-73d1-4a50-e721-740070379d15"
      },
      "outputs": [
        {
          "output_type": "execute_result",
          "data": {
            "text/plain": [
              "array([['PAYMENT', 9839.64, 170136.0, 160296.36, 0.0, 0.0],\n",
              "       ['PAYMENT', 1864.28, 21249.0, 19384.72, 0.0, 0.0],\n",
              "       ['TRANSFER', 181.0, 181.0, 0.0, 0.0, 0.0],\n",
              "       ...,\n",
              "       ['CASH_OUT', 6311409.28, 6311409.28, 0.0, 68488.84, 6379898.11],\n",
              "       ['TRANSFER', 850002.52, 850002.52, 0.0, 0.0, 0.0],\n",
              "       ['CASH_OUT', 850002.52, 850002.52, 0.0, 6510099.11, 7360101.63]],\n",
              "      dtype=object)"
            ]
          },
          "metadata": {},
          "execution_count": 7
        }
      ],
      "source": [
        "Final_dataset = np.concatenate((X,Y,Z),1)\n",
        "Final_dataset"
      ]
    },
    {
      "cell_type": "markdown",
      "source": [
        "**OneHotEncoding the 'type' column**"
      ],
      "metadata": {
        "id": "Wceh9EVl6fXv"
      },
      "id": "Wceh9EVl6fXv"
    },
    {
      "cell_type": "code",
      "execution_count": 8,
      "id": "f8f97b09",
      "metadata": {
        "colab": {
          "base_uri": "https://localhost:8080/"
        },
        "id": "f8f97b09",
        "outputId": "6fcdaf95-1d19-4456-df62-1a88103227a5"
      },
      "outputs": [
        {
          "output_type": "stream",
          "name": "stdout",
          "text": [
            "[[0.0 0.0 0.0 ... 160296.36 0.0 0.0]\n",
            " [0.0 0.0 0.0 ... 19384.72 0.0 0.0]\n",
            " [0.0 0.0 0.0 ... 0.0 0.0 0.0]\n",
            " ...\n",
            " [0.0 1.0 0.0 ... 0.0 68488.84 6379898.11]\n",
            " [0.0 0.0 0.0 ... 0.0 0.0 0.0]\n",
            " [0.0 1.0 0.0 ... 0.0 6510099.11 7360101.63]]\n"
          ]
        }
      ],
      "source": [
        "from sklearn.compose import ColumnTransformer \n",
        "from sklearn.preprocessing import OneHotEncoder \n",
        "ct = ColumnTransformer(transformers = [('encoder',OneHotEncoder(),[0])], remainder = 'passthrough') \n",
        "Final_dataset = np.array(ct.fit_transform(Final_dataset))\n",
        "print(Final_dataset)"
      ]
    },
    {
      "cell_type": "code",
      "execution_count": 9,
      "id": "ebbc7cf3",
      "metadata": {
        "colab": {
          "base_uri": "https://localhost:8080/"
        },
        "id": "ebbc7cf3",
        "outputId": "c37c3abd-c4ac-4c6e-da74-5d4a76be29b0"
      },
      "outputs": [
        {
          "output_type": "execute_result",
          "data": {
            "text/plain": [
              "(6362620, 10)"
            ]
          },
          "metadata": {},
          "execution_count": 9
        }
      ],
      "source": [
        "Final_dataset.shape"
      ]
    },
    {
      "cell_type": "code",
      "source": [
        "Final_dataset[:,:5]"
      ],
      "metadata": {
        "colab": {
          "base_uri": "https://localhost:8080/"
        },
        "id": "US9ORjw9z80q",
        "outputId": "c00c1c64-caa1-4932-fd83-5e603691c068"
      },
      "id": "US9ORjw9z80q",
      "execution_count": 21,
      "outputs": [
        {
          "output_type": "execute_result",
          "data": {
            "text/plain": [
              "array([[0.0, 0.0, 0.0, 1.0, 0.0],\n",
              "       [0.0, 0.0, 0.0, 1.0, 0.0],\n",
              "       [0.0, 0.0, 0.0, 0.0, 1.0],\n",
              "       ...,\n",
              "       [0.0, 1.0, 0.0, 0.0, 0.0],\n",
              "       [0.0, 0.0, 0.0, 0.0, 1.0],\n",
              "       [0.0, 1.0, 0.0, 0.0, 0.0]], dtype=object)"
            ]
          },
          "metadata": {},
          "execution_count": 21
        }
      ]
    },
    {
      "cell_type": "markdown",
      "source": [
        "**Replacing the zero values or unknown values with the mean of that feature column**"
      ],
      "metadata": {
        "id": "rQzv2KAt6V0d"
      },
      "id": "rQzv2KAt6V0d"
    },
    {
      "cell_type": "code",
      "execution_count": 10,
      "id": "25e1963b",
      "metadata": {
        "colab": {
          "base_uri": "https://localhost:8080/"
        },
        "id": "25e1963b",
        "outputId": "60c7c20e-21a4-40a9-a56c-7ba9bf94cf12"
      },
      "outputs": [
        {
          "output_type": "stream",
          "name": "stdout",
          "text": [
            "[[0.0 0.0 0.0 ... 160296.36 1914407.40702929 1986697.698358111]\n",
            " [0.0 0.0 0.0 ... 19384.72 1914407.40702929 1986697.698358111]\n",
            " [0.0 0.0 0.0 ... 0.0 1914407.40702929 1986697.698358111]\n",
            " ...\n",
            " [0.0 1.0 0.0 ... 0.0 68488.84 6379898.11]\n",
            " [0.0 0.0 0.0 ... 0.0 1914407.40702929 1986697.698358111]\n",
            " [0.0 1.0 0.0 ... 0.0 6510099.11 7360101.63]]\n",
            "\n",
            "\n"
          ]
        }
      ],
      "source": [
        "from sklearn.impute import SimpleImputer\n",
        "alpha = SimpleImputer(missing_values=0.0,strategy='mean')\n",
        "Final_dataset[:,8:] = alpha.fit_transform(Final_dataset[:,8:])\n",
        "print(Final_dataset)\n",
        "print('\\n')"
      ]
    },
    {
      "cell_type": "code",
      "execution_count": 11,
      "id": "33aa8f88",
      "metadata": {
        "colab": {
          "base_uri": "https://localhost:8080/"
        },
        "id": "33aa8f88",
        "outputId": "1f1fddc8-3540-4366-fd13-c1f992928e19"
      },
      "outputs": [
        {
          "output_type": "execute_result",
          "data": {
            "text/plain": [
              "array([[1914407.40702929, 1986697.698358111],\n",
              "       [1914407.40702929, 1986697.698358111],\n",
              "       [1914407.40702929, 1986697.698358111],\n",
              "       ...,\n",
              "       [68488.84, 6379898.11],\n",
              "       [1914407.40702929, 1986697.698358111],\n",
              "       [6510099.11, 7360101.63]], dtype=object)"
            ]
          },
          "metadata": {},
          "execution_count": 11
        }
      ],
      "source": [
        "Final_dataset[:,8:]"
      ]
    },
    {
      "cell_type": "code",
      "execution_count": 12,
      "id": "b756cd7f",
      "metadata": {
        "colab": {
          "base_uri": "https://localhost:8080/"
        },
        "id": "b756cd7f",
        "outputId": "609ce7cc-26ef-4404-8611-c875eff6db88"
      },
      "outputs": [
        {
          "output_type": "execute_result",
          "data": {
            "text/plain": [
              "(6362620, 10)"
            ]
          },
          "metadata": {},
          "execution_count": 12
        }
      ],
      "source": [
        "Final_dataset.shape"
      ]
    },
    {
      "cell_type": "code",
      "execution_count": 13,
      "id": "c1b09b55",
      "metadata": {
        "colab": {
          "base_uri": "https://localhost:8080/"
        },
        "id": "c1b09b55",
        "outputId": "a30c509e-6915-4e78-d7fc-0e51b753ff2e"
      },
      "outputs": [
        {
          "output_type": "execute_result",
          "data": {
            "text/plain": [
              "array([0, 0, 1, ..., 1, 1, 1])"
            ]
          },
          "metadata": {},
          "execution_count": 13
        }
      ],
      "source": [
        "fraud = dataset.iloc[:,-2].values\n",
        "fraud"
      ]
    },
    {
      "cell_type": "code",
      "execution_count": 14,
      "id": "79aec0f6",
      "metadata": {
        "colab": {
          "base_uri": "https://localhost:8080/"
        },
        "id": "79aec0f6",
        "outputId": "0f209d23-cd01-49ed-90be-48c5a656dd56"
      },
      "outputs": [
        {
          "output_type": "execute_result",
          "data": {
            "text/plain": [
              "6362620"
            ]
          },
          "metadata": {},
          "execution_count": 14
        }
      ],
      "source": [
        "len(fraud)"
      ]
    },
    {
      "cell_type": "code",
      "execution_count": 15,
      "id": "9efaa743",
      "metadata": {
        "id": "9efaa743"
      },
      "outputs": [],
      "source": [
        "from sklearn.model_selection import train_test_split"
      ]
    },
    {
      "cell_type": "markdown",
      "source": [
        "**Splitting Train-Test as 80-20 split**"
      ],
      "metadata": {
        "id": "RfjF474S6NHC"
      },
      "id": "RfjF474S6NHC"
    },
    {
      "cell_type": "code",
      "execution_count": 16,
      "id": "5ea08f8c",
      "metadata": {
        "id": "5ea08f8c"
      },
      "outputs": [],
      "source": [
        "X_train, X_test, Y_train, Y_test = train_test_split(Final_dataset, fraud, test_size = 0.2, random_state = 1)"
      ]
    },
    {
      "cell_type": "code",
      "source": [
        "print(X_train.shape, X_test.shape, Y_train.shape, Y_test.shape)"
      ],
      "metadata": {
        "colab": {
          "base_uri": "https://localhost:8080/"
        },
        "id": "gm0_sE4GzH-n",
        "outputId": "b007f27b-13a6-4d2e-96dc-9f3f26b1f71f"
      },
      "id": "gm0_sE4GzH-n",
      "execution_count": 17,
      "outputs": [
        {
          "output_type": "stream",
          "name": "stdout",
          "text": [
            "(5090096, 10) (1272524, 10) (5090096,) (1272524,)\n"
          ]
        }
      ]
    },
    {
      "cell_type": "markdown",
      "source": [
        "**Feature scalling is important here as some values are way too higher as compared to others**"
      ],
      "metadata": {
        "id": "1set7y675_0W"
      },
      "id": "1set7y675_0W"
    },
    {
      "cell_type": "code",
      "source": [
        "from sklearn.preprocessing import StandardScaler\n",
        "sc = StandardScaler()\n",
        "X_train[:, 5:] = sc.fit_transform(X_train[:, 5:]) \n",
        "print(X_train)\n",
        "print('\\n')\n",
        "\n",
        "X_test[:, 5:] = sc.transform(X_test[:, 5:]) \n",
        "print(X_test)\n",
        "print('\\n')"
      ],
      "metadata": {
        "colab": {
          "base_uri": "https://localhost:8080/"
        },
        "id": "DKY0zoipzRxV",
        "outputId": "96af6448-d1b5-4788-f993-8ea32f29b119"
      },
      "id": "DKY0zoipzRxV",
      "execution_count": 23,
      "outputs": [
        {
          "output_type": "stream",
          "name": "stdout",
          "text": [
            "[[0.0 0.0 0.0 ... -0.2923588746637241 -5.340973615521863e-05\n",
            "  -0.00010504984980609933]\n",
            " [0.0 0.0 0.0 ... -0.2923588746637241 -5.340973615521863e-05\n",
            "  -0.00010504984980609933]\n",
            " [0.0 1.0 0.0 ... -0.2923588746637241 -5.340973615521863e-05\n",
            "  -0.5166045833511143]\n",
            " ...\n",
            " [0.0 1.0 0.0 ... -0.2923588746637241 2.0356892127714126\n",
            "  1.8897365399791413]\n",
            " [0.0 0.0 0.0 ... -0.2923588746637241 -5.340973615521863e-05\n",
            "  -0.00010504984980609933]\n",
            " [0.0 0.0 0.0 ... -0.2923588746637241 -5.340973615521863e-05\n",
            "  -0.00010504984980609933]]\n",
            "\n",
            "\n",
            "[[1.0 0.0 0.0 ... -0.2815455451692375 -0.5347865038592392\n",
            "  -0.5194191460674986]\n",
            " [0.0 0.0 0.0 ... -0.2923588746637241 -5.340973615521863e-05\n",
            "  -0.00010504984980609933]\n",
            " [0.0 0.0 0.0 ... -0.2923588746637241 -5.340973615521863e-05\n",
            "  -0.00010504984980609933]\n",
            " ...\n",
            " [0.0 1.0 0.0 ... -0.2923588746637241 -0.40236876318987475\n",
            "  -0.29105481154055696]\n",
            " [0.0 0.0 0.0 ... -0.18182845740189166 -5.340973615521863e-05\n",
            "  -0.00010504984980609933]\n",
            " [0.0 0.0 0.0 ... -0.2923588746637241 -5.340973615521863e-05\n",
            "  -0.00010504984980609933]]\n",
            "\n",
            "\n"
          ]
        }
      ]
    },
    {
      "cell_type": "markdown",
      "source": [
        "**Lets use Logistic Regression for this classfication**"
      ],
      "metadata": {
        "id": "LCAQvxwf50-1"
      },
      "id": "LCAQvxwf50-1"
    },
    {
      "cell_type": "code",
      "source": [
        "from sklearn.linear_model import LogisticRegression"
      ],
      "metadata": {
        "id": "14TCOfu5zRt9"
      },
      "id": "14TCOfu5zRt9",
      "execution_count": 24,
      "outputs": []
    },
    {
      "cell_type": "code",
      "source": [
        "classifier = LogisticRegression(random_state=1)"
      ],
      "metadata": {
        "id": "_QtNHN87zRrp"
      },
      "id": "_QtNHN87zRrp",
      "execution_count": 25,
      "outputs": []
    },
    {
      "cell_type": "code",
      "source": [
        "classifier.fit(X_train,Y_train)"
      ],
      "metadata": {
        "colab": {
          "base_uri": "https://localhost:8080/"
        },
        "id": "7j_6CPXJzRof",
        "outputId": "fdfb3621-e70f-410e-9149-147ba5f2f75a"
      },
      "id": "7j_6CPXJzRof",
      "execution_count": 26,
      "outputs": [
        {
          "output_type": "stream",
          "name": "stderr",
          "text": [
            "/usr/local/lib/python3.7/dist-packages/sklearn/linear_model/_logistic.py:818: ConvergenceWarning: lbfgs failed to converge (status=1):\n",
            "STOP: TOTAL NO. of ITERATIONS REACHED LIMIT.\n",
            "\n",
            "Increase the number of iterations (max_iter) or scale the data as shown in:\n",
            "    https://scikit-learn.org/stable/modules/preprocessing.html\n",
            "Please also refer to the documentation for alternative solver options:\n",
            "    https://scikit-learn.org/stable/modules/linear_model.html#logistic-regression\n",
            "  extra_warning_msg=_LOGISTIC_SOLVER_CONVERGENCE_MSG,\n"
          ]
        },
        {
          "output_type": "execute_result",
          "data": {
            "text/plain": [
              "LogisticRegression(random_state=1)"
            ]
          },
          "metadata": {},
          "execution_count": 26
        }
      ]
    },
    {
      "cell_type": "code",
      "source": [
        "Y_pred = classifier.predict(X_test)"
      ],
      "metadata": {
        "id": "6K8pcVmqzRf5"
      },
      "id": "6K8pcVmqzRf5",
      "execution_count": 30,
      "outputs": []
    },
    {
      "cell_type": "code",
      "source": [
        "Y_pred"
      ],
      "metadata": {
        "colab": {
          "base_uri": "https://localhost:8080/"
        },
        "id": "lNs0McVFzRdB",
        "outputId": "5a408292-d820-4b35-f7d8-82576229485b"
      },
      "id": "lNs0McVFzRdB",
      "execution_count": 31,
      "outputs": [
        {
          "output_type": "execute_result",
          "data": {
            "text/plain": [
              "array([0, 0, 0, ..., 0, 0, 0])"
            ]
          },
          "metadata": {},
          "execution_count": 31
        }
      ]
    },
    {
      "cell_type": "markdown",
      "source": [
        "**Here, the output below shows predictions in column 1 and the original test results in column 2** "
      ],
      "metadata": {
        "id": "7fZa4Kwt5iQy"
      },
      "id": "7fZa4Kwt5iQy"
    },
    {
      "cell_type": "code",
      "source": [
        "print(np.concatenate((Y_pred.reshape(len(Y_pred),1), Y_test.reshape(len(Y_test),1)),1))"
      ],
      "metadata": {
        "colab": {
          "base_uri": "https://localhost:8080/"
        },
        "id": "d4XvrxLGzRZ5",
        "outputId": "22443d1b-d449-4f91-f6f1-0c3d8e89616a"
      },
      "id": "d4XvrxLGzRZ5",
      "execution_count": 40,
      "outputs": [
        {
          "output_type": "stream",
          "name": "stdout",
          "text": [
            "[[0 0]\n",
            " [0 0]\n",
            " [0 0]\n",
            " ...\n",
            " [0 0]\n",
            " [0 0]\n",
            " [0 0]]\n"
          ]
        }
      ]
    },
    {
      "cell_type": "markdown",
      "source": [
        "**Checking the Confusion matrix and the Accuracy score** "
      ],
      "metadata": {
        "id": "4OnxOs5i5V4D"
      },
      "id": "4OnxOs5i5V4D"
    },
    {
      "cell_type": "code",
      "source": [
        "from sklearn.metrics import confusion_matrix, accuracy_score\n",
        "cm = confusion_matrix(Y_test, Y_pred)\n",
        "print(cm)\n",
        "print('\\n')\n",
        "print(\"accuracy score = \",accuracy_score(Y_test, Y_pred))"
      ],
      "metadata": {
        "colab": {
          "base_uri": "https://localhost:8080/"
        },
        "id": "ihcvIVWgzRWy",
        "outputId": "b3d60b9a-1bf6-4a0d-9b42-161e9ab3604e"
      },
      "id": "ihcvIVWgzRWy",
      "execution_count": 47,
      "outputs": [
        {
          "output_type": "stream",
          "name": "stdout",
          "text": [
            "[[1270802      75]\n",
            " [   1049     598]]\n",
            "\n",
            "\n",
            "accuracy score =  0.9991167160697951\n"
          ]
        }
      ]
    },
    {
      "cell_type": "markdown",
      "source": [
        "**Lets now build a model for the flagged fraud alerts**"
      ],
      "metadata": {
        "id": "-dXBZrl98BKW"
      },
      "id": "-dXBZrl98BKW"
    },
    {
      "cell_type": "code",
      "source": [
        "flagged_fraud = dataset.iloc[:,-1].values"
      ],
      "metadata": {
        "id": "HvuRoNvtzRTp"
      },
      "id": "HvuRoNvtzRTp",
      "execution_count": 48,
      "outputs": []
    },
    {
      "cell_type": "code",
      "source": [
        "X_train_dash, X_test_dash, Y_train_dash, Y_test_dash = train_test_split(Final_dataset, flagged_fraud, test_size = 0.2, random_state = 1)"
      ],
      "metadata": {
        "id": "dlRNGsm1zRLA"
      },
      "id": "dlRNGsm1zRLA",
      "execution_count": 49,
      "outputs": []
    },
    {
      "cell_type": "code",
      "source": [
        "print(X_train_dash.shape, X_test_dash.shape, Y_train_dash.shape, Y_test_dash.shape)"
      ],
      "metadata": {
        "colab": {
          "base_uri": "https://localhost:8080/"
        },
        "id": "JddDkUo9zRKT",
        "outputId": "9860c767-6a62-4ac1-9f32-59e7e15de166"
      },
      "id": "JddDkUo9zRKT",
      "execution_count": 50,
      "outputs": [
        {
          "output_type": "stream",
          "name": "stdout",
          "text": [
            "(5090096, 10) (1272524, 10) (5090096,) (1272524,)\n"
          ]
        }
      ]
    },
    {
      "cell_type": "code",
      "source": [
        "classifier.fit(X_train_dash,Y_train_dash)"
      ],
      "metadata": {
        "colab": {
          "base_uri": "https://localhost:8080/"
        },
        "id": "XyDdfq5KzRFC",
        "outputId": "1cbbc344-f12c-4d00-ad67-2bc2984a1e7a"
      },
      "id": "XyDdfq5KzRFC",
      "execution_count": 51,
      "outputs": [
        {
          "output_type": "execute_result",
          "data": {
            "text/plain": [
              "LogisticRegression(random_state=1)"
            ]
          },
          "metadata": {},
          "execution_count": 51
        }
      ]
    },
    {
      "cell_type": "code",
      "source": [
        "Y_pred_dash = classifier.predict(X_test_dash)"
      ],
      "metadata": {
        "id": "l0WtB9-H8845"
      },
      "id": "l0WtB9-H8845",
      "execution_count": 52,
      "outputs": []
    },
    {
      "cell_type": "code",
      "source": [
        "cm_dash = confusion_matrix(Y_test_dash, Y_pred_dash)\n",
        "print(cm_dash)\n",
        "print('\\n')\n",
        "print(\"accuracy score for flagged fraud = \",accuracy_score(Y_test_dash, Y_pred_dash))"
      ],
      "metadata": {
        "colab": {
          "base_uri": "https://localhost:8080/"
        },
        "id": "7AiwyLes88vf",
        "outputId": "5ca57352-9e81-4b39-870a-70a80ae90c77"
      },
      "id": "7AiwyLes88vf",
      "execution_count": 53,
      "outputs": [
        {
          "output_type": "stream",
          "name": "stdout",
          "text": [
            "[[1272503      20]\n",
            " [      1       0]]\n",
            "\n",
            "\n",
            "accuracy score for flagged fraud =  0.9999834973642934\n"
          ]
        }
      ]
    },
    {
      "cell_type": "markdown",
      "source": [
        "When a company updates its infrastructure, It must be considered to maintain a dataset of each and every customer taking the services so that we have a record of whats going on in the company. Later on, we can run several ML models to check whether everything if running well and we can even predict what kind of future improvements we need to do for the company. In short, Insights are very important and for that, a well maintained dataset is needed."
      ],
      "metadata": {
        "id": "NdClix_UB98w"
      },
      "id": "NdClix_UB98w"
    }
  ],
  "metadata": {
    "kernelspec": {
      "display_name": "Python 3 (ipykernel)",
      "language": "python",
      "name": "python3"
    },
    "language_info": {
      "codemirror_mode": {
        "name": "ipython",
        "version": 3
      },
      "file_extension": ".py",
      "mimetype": "text/x-python",
      "name": "python",
      "nbconvert_exporter": "python",
      "pygments_lexer": "ipython3",
      "version": "3.9.7"
    },
    "colab": {
      "name": "Fraud or Not.ipynb",
      "provenance": [],
      "collapsed_sections": []
    }
  },
  "nbformat": 4,
  "nbformat_minor": 5
}